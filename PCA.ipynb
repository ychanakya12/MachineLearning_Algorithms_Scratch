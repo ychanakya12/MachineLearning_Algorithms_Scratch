{
 "cells": [
  {
   "cell_type": "code",
   "execution_count": 19,
   "id": "aa7d11a8-a313-4a40-a00c-a7ca1f864acc",
   "metadata": {},
   "outputs": [],
   "source": [
    "import numpy as np\n",
    "import pandas as pd\n",
    "import warnings\n",
    "warnings.filterwarnings('ignore')\n",
    "from sklearn.datasets import fetch_california_housing"
   ]
  },
  {
   "cell_type": "code",
   "execution_count": 29,
   "id": "f723043f-a6fd-4331-b506-38990dcf0759",
   "metadata": {},
   "outputs": [
    {
     "name": "stdout",
     "output_type": "stream",
     "text": [
      "{'data': array([[   8.3252    ,   41.        ,    6.98412698, ...,    2.55555556,\n",
      "          37.88      , -122.23      ],\n",
      "       [   8.3014    ,   21.        ,    6.23813708, ...,    2.10984183,\n",
      "          37.86      , -122.22      ],\n",
      "       [   7.2574    ,   52.        ,    8.28813559, ...,    2.80225989,\n",
      "          37.85      , -122.24      ],\n",
      "       ...,\n",
      "       [   1.7       ,   17.        ,    5.20554273, ...,    2.3256351 ,\n",
      "          39.43      , -121.22      ],\n",
      "       [   1.8672    ,   18.        ,    5.32951289, ...,    2.12320917,\n",
      "          39.43      , -121.32      ],\n",
      "       [   2.3886    ,   16.        ,    5.25471698, ...,    2.61698113,\n",
      "          39.37      , -121.24      ]]), 'target': array([4.526, 3.585, 3.521, ..., 0.923, 0.847, 0.894]), 'frame': None, 'target_names': ['MedHouseVal'], 'feature_names': ['MedInc', 'HouseAge', 'AveRooms', 'AveBedrms', 'Population', 'AveOccup', 'Latitude', 'Longitude'], 'DESCR': '.. _california_housing_dataset:\\n\\nCalifornia Housing dataset\\n--------------------------\\n\\n**Data Set Characteristics:**\\n\\n:Number of Instances: 20640\\n\\n:Number of Attributes: 8 numeric, predictive attributes and the target\\n\\n:Attribute Information:\\n    - MedInc        median income in block group\\n    - HouseAge      median house age in block group\\n    - AveRooms      average number of rooms per household\\n    - AveBedrms     average number of bedrooms per household\\n    - Population    block group population\\n    - AveOccup      average number of household members\\n    - Latitude      block group latitude\\n    - Longitude     block group longitude\\n\\n:Missing Attribute Values: None\\n\\nThis dataset was obtained from the StatLib repository.\\nhttps://www.dcc.fc.up.pt/~ltorgo/Regression/cal_housing.html\\n\\nThe target variable is the median house value for California districts,\\nexpressed in hundreds of thousands of dollars ($100,000).\\n\\nThis dataset was derived from the 1990 U.S. census, using one row per census\\nblock group. A block group is the smallest geographical unit for which the U.S.\\nCensus Bureau publishes sample data (a block group typically has a population\\nof 600 to 3,000 people).\\n\\nA household is a group of people residing within a home. Since the average\\nnumber of rooms and bedrooms in this dataset are provided per household, these\\ncolumns may take surprisingly large values for block groups with few households\\nand many empty houses, such as vacation resorts.\\n\\nIt can be downloaded/loaded using the\\n:func:`sklearn.datasets.fetch_california_housing` function.\\n\\n.. rubric:: References\\n\\n- Pace, R. Kelley and Ronald Barry, Sparse Spatial Autoregressions,\\n  Statistics and Probability Letters, 33 (1997) 291-297\\n'}\n"
     ]
    }
   ],
   "source": [
    "calif = fetch_california_housing()\n",
    "print(calif)\n",
    "# we only deal  with imput data , unsupervised learning"
   ]
  },
  {
   "cell_type": "markdown",
   "id": "d39fbbb0-c43c-4de6-91ab-d8bdfbaa2950",
   "metadata": {},
   "source": [
    "# step 1"
   ]
  },
  {
   "cell_type": "code",
   "execution_count": 41,
   "id": "4249c72f-121f-40ba-868a-80b9936a2349",
   "metadata": {},
   "outputs": [],
   "source": [
    "X = calif['data']"
   ]
  },
  {
   "cell_type": "code",
   "execution_count": 43,
   "id": "79e0e5f8-016c-404d-818c-ca56edcc8a4d",
   "metadata": {},
   "outputs": [
    {
     "data": {
      "text/plain": [
       "(20640, 8)"
      ]
     },
     "execution_count": 43,
     "metadata": {},
     "output_type": "execute_result"
    }
   ],
   "source": [
    "X.shape"
   ]
  },
  {
   "cell_type": "code",
   "execution_count": 45,
   "id": "d3a05b0a-1f26-4aac-bd9a-daa9d9a99892",
   "metadata": {},
   "outputs": [
    {
     "data": {
      "text/plain": [
       "(20640, 8)"
      ]
     },
     "execution_count": 45,
     "metadata": {},
     "output_type": "execute_result"
    }
   ],
   "source": [
    "# standardize\n",
    "u = X.mean(axis = 0)\n",
    "X_ = (X- u)\n",
    "X_.shape"
   ]
  },
  {
   "cell_type": "markdown",
   "id": "c684751c-3fbb-44bd-9c65-7f480d52be96",
   "metadata": {},
   "source": [
    "# step 2"
   ]
  },
  {
   "cell_type": "code",
   "execution_count": 50,
   "id": "ccbbd145-eb63-4473-949b-6ce13e984898",
   "metadata": {},
   "outputs": [
    {
     "name": "stdout",
     "output_type": "stream",
     "text": [
      "[[ 7.44928083e+04 -5.87414892e+04  3.17132271e+04 -1.15284490e+03\n",
      "   2.14665811e+05  7.64239253e+03 -6.68414144e+03 -1.19220569e+03]\n",
      " [-5.87414892e+04  3.26914042e+06 -9.85075210e+04 -9.57068430e+03\n",
      "  -8.71434425e+07  3.55877856e+04  6.19883093e+03 -5.63082209e+04]\n",
      " [ 3.17132271e+04 -9.85075210e+04  1.26342314e+05  2.05124375e+04\n",
      "  -4.17596549e+06 -2.57345350e+03  1.16039779e+04 -2.81760265e+03]\n",
      " [-1.15284490e+03 -9.57068430e+03  2.05124375e+04  4.63534397e+03\n",
      "  -7.33246403e+05 -6.27926172e+02  1.45660332e+03  2.61505150e+02]\n",
      " [ 2.14665811e+05 -8.71434425e+07 -4.17596549e+06 -7.33246403e+05\n",
      "   2.64689078e+10  1.69593140e+07 -5.43090134e+06  4.67221221e+06]\n",
      " [ 7.64239253e+03  3.55877856e+04 -2.57345350e+03 -6.27926172e+02\n",
      "   1.69593140e+07  2.22632946e+06  1.08337499e+03  1.06329482e+03]\n",
      " [-6.68414144e+03  6.19883093e+03  1.16039779e+04  1.45660332e+03\n",
      "  -5.43090134e+06  1.08337499e+03  9.41611579e+04 -8.16696318e+04]\n",
      " [-1.19220569e+03 -5.63082209e+04 -2.81760265e+03  2.61505150e+02\n",
      "   4.67221221e+06  1.06329482e+03 -8.16696318e+04  8.28478224e+04]]\n"
     ]
    },
    {
     "data": {
      "text/plain": [
       "(8, 8)"
      ]
     },
     "execution_count": 50,
     "metadata": {},
     "output_type": "execute_result"
    }
   ],
   "source": [
    "# covariance of X is S --> X.T . X\n",
    "S = np.dot(X_.T, X_)\n",
    "print(S)\n",
    "S.shape"
   ]
  },
  {
   "cell_type": "markdown",
   "id": "a5de7485-6e39-43ef-975a-dfd1e97bd346",
   "metadata": {},
   "source": [
    "# Step 3 -- getting eigen values and eigen vectors\n"
   ]
  },
  {
   "cell_type": "code",
   "execution_count": 53,
   "id": "9756307d-96dd-4d63-aa95-4486ef625856",
   "metadata": {},
   "outputs": [],
   "source": [
    "lambdas , vectors = np.linalg.eig(S)"
   ]
  },
  {
   "cell_type": "code",
   "execution_count": 55,
   "id": "43a536fe-9df7-4966-a267-3fa79f5378bd",
   "metadata": {},
   "outputs": [
    {
     "data": {
      "text/plain": [
       "(8,)"
      ]
     },
     "execution_count": 55,
     "metadata": {},
     "output_type": "execute_result"
    }
   ],
   "source": [
    "lambdas.shape"
   ]
  },
  {
   "cell_type": "code",
   "execution_count": 57,
   "id": "8da887fc-2af3-4460-92e4-11e641b9b41c",
   "metadata": {},
   "outputs": [
    {
     "data": {
      "text/plain": [
       "array([2.64692082e+10, 2.99909311e+06])"
      ]
     },
     "execution_count": 57,
     "metadata": {},
     "output_type": "execute_result"
    }
   ],
   "source": [
    "lambdas[:2]"
   ]
  },
  {
   "cell_type": "code",
   "execution_count": 59,
   "id": "3b915262-8fca-4568-9750-17c8b26ffb76",
   "metadata": {},
   "outputs": [
    {
     "data": {
      "text/plain": [
       "(8, 8)"
      ]
     },
     "execution_count": 59,
     "metadata": {},
     "output_type": "execute_result"
    }
   ],
   "source": [
    "vectors.shape"
   ]
  },
  {
   "cell_type": "code",
   "execution_count": 61,
   "id": "d57da3c6-b68e-47d6-928c-bbc59839adbf",
   "metadata": {},
   "outputs": [
    {
     "data": {
      "text/plain": [
       "array([-8.11734515e-06,  3.29264421e-03,  1.57754708e-04,  2.77006684e-05,\n",
       "       -9.99994324e-01, -6.40764448e-04,  2.05179008e-04, -1.76522227e-04])"
      ]
     },
     "execution_count": 61,
     "metadata": {},
     "output_type": "execute_result"
    }
   ],
   "source": [
    "# 1st eigen vectors\n",
    "vectors[:,0]"
   ]
  },
  {
   "cell_type": "code",
   "execution_count": 65,
   "id": "fa8e9253-996c-4872-894f-8869e19b4447",
   "metadata": {},
   "outputs": [
    {
     "data": {
      "text/plain": [
       "(8, 2)"
      ]
     },
     "execution_count": 65,
     "metadata": {},
     "output_type": "execute_result"
    }
   ],
   "source": [
    "#top 2 eigen vectors\n",
    "V = vectors[: , :2]\n",
    "V.shape"
   ]
  },
  {
   "cell_type": "markdown",
   "id": "f0da73a7-52aa-4355-9495-637282b0aa67",
   "metadata": {},
   "source": [
    "## step 4"
   ]
  },
  {
   "cell_type": "code",
   "execution_count": 80,
   "id": "2cc32daf-aba9-4123-87ed-cc92b13181de",
   "metadata": {},
   "outputs": [
    {
     "data": {
      "text/plain": [
       "(20640, 8)"
      ]
     },
     "execution_count": 80,
     "metadata": {},
     "output_type": "execute_result"
    }
   ],
   "source": [
    "X_.shape\n"
   ]
  },
  {
   "cell_type": "code",
   "execution_count": 97,
   "id": "83dc93ff-f057-40bd-9fbb-291049334b76",
   "metadata": {},
   "outputs": [
    {
     "name": "stdout",
     "output_type": "stream",
     "text": [
      "[[1103.51264821    8.56663624]\n",
      " [-975.54124442   -4.67041774]\n",
      " [ 929.54990812   20.03465092]\n",
      " ...\n",
      " [ 418.43757543  -12.90825582]\n",
      " [ 684.43952537  -12.79458051]\n",
      " [  38.43624736  -12.67037806]]\n"
     ]
    }
   ],
   "source": [
    "print(X_new)"
   ]
  },
  {
   "cell_type": "code",
   "execution_count": 82,
   "id": "40544c44-93c6-43a7-ac93-2213bfe9b5d8",
   "metadata": {},
   "outputs": [
    {
     "data": {
      "text/plain": [
       "(8, 2)"
      ]
     },
     "execution_count": 82,
     "metadata": {},
     "output_type": "execute_result"
    }
   ],
   "source": [
    "V.shape"
   ]
  },
  {
   "cell_type": "code",
   "execution_count": 99,
   "id": "94993e42-e04d-4e8d-9e8c-8696927fcd4c",
   "metadata": {},
   "outputs": [
    {
     "data": {
      "text/plain": [
       "(20640, 2)"
      ]
     },
     "execution_count": 99,
     "metadata": {},
     "output_type": "execute_result"
    }
   ],
   "source": [
    "X_new = np.dot(X_ , V)\n",
    "X_new.shape   # we converted 13 dimensions to 2 dimensions"
   ]
  },
  {
   "cell_type": "code",
   "execution_count": 118,
   "id": "c094ee94-1727-4bdb-b4b6-0ad2a9e1bb27",
   "metadata": {},
   "outputs": [],
   "source": [
    "total = sum(lambdas)"
   ]
  },
  {
   "cell_type": "code",
   "execution_count": 122,
   "id": "70198211-fba2-4a87-a822-e3efe247307b",
   "metadata": {},
   "outputs": [
    {
     "data": {
      "text/plain": [
       "array([1., 0., 0., 0., 0., 0., 0., 0.])"
      ]
     },
     "execution_count": 122,
     "metadata": {},
     "output_type": "execute_result"
    }
   ],
   "source": [
    "explained_variance = np.round(lambdas/total,3)\n",
    "explained_variance "
   ]
  },
  {
   "cell_type": "code",
   "execution_count": 124,
   "id": "651c10f2-dd05-4994-9437-9e5df7f66c5f",
   "metadata": {},
   "outputs": [
    {
     "data": {
      "text/plain": [
       "1.0"
      ]
     },
     "execution_count": 124,
     "metadata": {},
     "output_type": "execute_result"
    }
   ],
   "source": [
    "explained_variance[:2].sum()"
   ]
  },
  {
   "cell_type": "code",
   "execution_count": 126,
   "id": "c25e0f39-6b2c-4b2f-8729-938218dfd0f4",
   "metadata": {},
   "outputs": [
    {
     "data": {
      "text/plain": [
       "array([1., 1., 1., 1., 1., 1., 1., 1.])"
      ]
     },
     "execution_count": 126,
     "metadata": {},
     "output_type": "execute_result"
    }
   ],
   "source": [
    "np.cumsum(explained_variance)"
   ]
  },
  {
   "cell_type": "markdown",
   "id": "928e2fdf-2258-4ce4-a8eb-6ba7ef4de13f",
   "metadata": {},
   "source": [
    "## Skelarn"
   ]
  },
  {
   "cell_type": "code",
   "execution_count": 102,
   "id": "0987bda9-ae63-4585-bd6e-666484941ec3",
   "metadata": {},
   "outputs": [],
   "source": [
    "from sklearn.decomposition import PCA"
   ]
  },
  {
   "cell_type": "code",
   "execution_count": 104,
   "id": "4fb11d00-cee9-40b6-a5b7-ba94f1af0327",
   "metadata": {},
   "outputs": [],
   "source": [
    "pca = PCA(n_components =2)\n"
   ]
  },
  {
   "cell_type": "code",
   "execution_count": 106,
   "id": "a01698bd-594f-4d10-a0ef-19bbaee5e8c7",
   "metadata": {},
   "outputs": [
    {
     "data": {
      "text/plain": [
       "array([[-1103.51264821,     8.56663624],\n",
       "       [  975.54124442,    -4.67041774],\n",
       "       [ -929.54990812,    20.03465092],\n",
       "       ...,\n",
       "       [ -418.43757543,   -12.90825582],\n",
       "       [ -684.43952537,   -12.79458051],\n",
       "       [  -38.43624736,   -12.67037806]])"
      ]
     },
     "execution_count": 106,
     "metadata": {},
     "output_type": "execute_result"
    }
   ],
   "source": [
    "pca.fit_transform(X)"
   ]
  },
  {
   "cell_type": "code",
   "execution_count": 114,
   "id": "d652c379-d071-4958-8a4f-d4ced2d3e0ec",
   "metadata": {},
   "outputs": [
    {
     "data": {
      "text/plain": [
       "array([1.28248501e+06, 1.45311939e+02])"
      ]
     },
     "execution_count": 114,
     "metadata": {},
     "output_type": "execute_result"
    }
   ],
   "source": [
    "pca.explained_variance_  #Lambda1 , lambda2 # how much percent varicance is explainesd by which vector"
   ]
  },
  {
   "cell_type": "code",
   "execution_count": 116,
   "id": "47e25a5b-f811-4a13-b47d-ef1442aa7002",
   "metadata": {},
   "outputs": [
    {
     "data": {
      "text/plain": [
       "0.9999026078862243"
      ]
     },
     "execution_count": 116,
     "metadata": {},
     "output_type": "execute_result"
    }
   ],
   "source": [
    "pca.explained_variance_ratio_.sum()"
   ]
  },
  {
   "cell_type": "code",
   "execution_count": null,
   "id": "d5fe28a9-27cb-41cd-be15-d662d3303fea",
   "metadata": {},
   "outputs": [],
   "source": []
  }
 ],
 "metadata": {
  "kernelspec": {
   "display_name": "Python [conda env:base] *",
   "language": "python",
   "name": "conda-base-py"
  },
  "language_info": {
   "codemirror_mode": {
    "name": "ipython",
    "version": 3
   },
   "file_extension": ".py",
   "mimetype": "text/x-python",
   "name": "python",
   "nbconvert_exporter": "python",
   "pygments_lexer": "ipython3",
   "version": "3.12.7"
  }
 },
 "nbformat": 4,
 "nbformat_minor": 5
}
