{
 "cells": [
  {
   "cell_type": "markdown",
   "id": "e73bec3c-9c58-406d-9a73-599f5410c38f",
   "metadata": {},
   "source": [
    "## ENTROPY"
   ]
  },
  {
   "cell_type": "code",
   "execution_count": 2,
   "id": "43b81f1b-8e7b-4208-b23d-7ae2d003ef82",
   "metadata": {},
   "outputs": [],
   "source": [
    "# it is the measure of randomness, check notes"
   ]
  },
  {
   "cell_type": "code",
   "execution_count": 3,
   "id": "f48d6ed8-ce87-4031-8dc8-d765d51dd531",
   "metadata": {},
   "outputs": [],
   "source": [
    "import numpy as np"
   ]
  },
  {
   "cell_type": "code",
   "execution_count": 6,
   "id": "39f8f2e5-9f0b-4a7a-a875-9de964bb8c97",
   "metadata": {},
   "outputs": [],
   "source": [
    "Y = np.array([1,0,0,1,0,1,0,1]) # Y is a random variable"
   ]
  },
  {
   "cell_type": "code",
   "execution_count": 13,
   "id": "98cc83a2-4364-4ba9-8c13-c8b846e28f07",
   "metadata": {},
   "outputs": [],
   "source": [
    "def entropy(var):\n",
    "    N = var.shape[0]\n",
    "    values , counts = np.unique(var,return_counts = True)\n",
    "    ent = 0.0\n",
    "    for i in counts:\n",
    "        p = i /N\n",
    "        ent += (p * np.log2(p))\n",
    "    return -ent\n",
    "    \n",
    "    "
   ]
  },
  {
   "cell_type": "code",
   "execution_count": 15,
   "id": "7bac4e2a-081e-4b53-9335-1b5f64216591",
   "metadata": {},
   "outputs": [],
   "source": [
    "values , counts = np.unique(Y,return_counts = True)"
   ]
  },
  {
   "cell_type": "code",
   "execution_count": 17,
   "id": "c1fe886f-f9ee-487f-8715-1118177f3608",
   "metadata": {},
   "outputs": [
    {
     "data": {
      "text/plain": [
       "array([4, 4], dtype=int64)"
      ]
     },
     "execution_count": 17,
     "metadata": {},
     "output_type": "execute_result"
    }
   ],
   "source": [
    "counts"
   ]
  },
  {
   "cell_type": "code",
   "execution_count": 19,
   "id": "1564c4de-f27c-4219-b670-70c790f87523",
   "metadata": {},
   "outputs": [
    {
     "data": {
      "text/plain": [
       "1.0"
      ]
     },
     "execution_count": 19,
     "metadata": {},
     "output_type": "execute_result"
    }
   ],
   "source": [
    "entropy(Y)"
   ]
  },
  {
   "cell_type": "code",
   "execution_count": 21,
   "id": "373d3946-7ede-45b2-b026-13ab4e5d055c",
   "metadata": {},
   "outputs": [
    {
     "data": {
      "text/plain": [
       "-0.0"
      ]
     },
     "execution_count": 21,
     "metadata": {},
     "output_type": "execute_result"
    }
   ],
   "source": [
    "X = np.array([1,1,1,1,1,1,1])\n",
    "entropy(X)"
   ]
  },
  {
   "cell_type": "markdown",
   "id": "dee9b4f4-d552-4f77-aeb6-b0c723246422",
   "metadata": {},
   "source": [
    "## SPLIT DATA"
   ]
  },
  {
   "cell_type": "code",
   "execution_count": 16,
   "id": "a23886bf-9428-4264-bff3-eb37f171c142",
   "metadata": {},
   "outputs": [],
   "source": [
    "import pandas as pd\n",
    "import numpy as np\n"
   ]
  },
  {
   "cell_type": "code",
   "execution_count": 18,
   "id": "7299aa6e-c7d0-40a9-913a-1c3386f08c1a",
   "metadata": {},
   "outputs": [],
   "source": [
    "file_path = r\"C:\\Users\\ChanakyaY\\Downloads\\golf.csv\"\n",
    "df = pd.read_csv(file_path)"
   ]
  },
  {
   "cell_type": "code",
   "execution_count": 20,
   "id": "698f65d4-7463-49ac-8f07-56c9e12029a1",
   "metadata": {},
   "outputs": [
    {
     "data": {
      "text/html": [
       "<div>\n",
       "<style scoped>\n",
       "    .dataframe tbody tr th:only-of-type {\n",
       "        vertical-align: middle;\n",
       "    }\n",
       "\n",
       "    .dataframe tbody tr th {\n",
       "        vertical-align: top;\n",
       "    }\n",
       "\n",
       "    .dataframe thead th {\n",
       "        text-align: right;\n",
       "    }\n",
       "</style>\n",
       "<table border=\"1\" class=\"dataframe\">\n",
       "  <thead>\n",
       "    <tr style=\"text-align: right;\">\n",
       "      <th></th>\n",
       "      <th>Outlook</th>\n",
       "      <th>Temperature</th>\n",
       "      <th>Humidity</th>\n",
       "      <th>Windy</th>\n",
       "      <th>Play</th>\n",
       "    </tr>\n",
       "  </thead>\n",
       "  <tbody>\n",
       "    <tr>\n",
       "      <th>0</th>\n",
       "      <td>sunny</td>\n",
       "      <td>hot</td>\n",
       "      <td>high</td>\n",
       "      <td>False</td>\n",
       "      <td>no</td>\n",
       "    </tr>\n",
       "    <tr>\n",
       "      <th>1</th>\n",
       "      <td>sunny</td>\n",
       "      <td>hot</td>\n",
       "      <td>high</td>\n",
       "      <td>True</td>\n",
       "      <td>no</td>\n",
       "    </tr>\n",
       "    <tr>\n",
       "      <th>2</th>\n",
       "      <td>overcast</td>\n",
       "      <td>hot</td>\n",
       "      <td>high</td>\n",
       "      <td>False</td>\n",
       "      <td>yes</td>\n",
       "    </tr>\n",
       "    <tr>\n",
       "      <th>3</th>\n",
       "      <td>rainy</td>\n",
       "      <td>mild</td>\n",
       "      <td>high</td>\n",
       "      <td>False</td>\n",
       "      <td>yes</td>\n",
       "    </tr>\n",
       "    <tr>\n",
       "      <th>4</th>\n",
       "      <td>rainy</td>\n",
       "      <td>cool</td>\n",
       "      <td>normal</td>\n",
       "      <td>False</td>\n",
       "      <td>yes</td>\n",
       "    </tr>\n",
       "    <tr>\n",
       "      <th>5</th>\n",
       "      <td>rainy</td>\n",
       "      <td>cool</td>\n",
       "      <td>normal</td>\n",
       "      <td>True</td>\n",
       "      <td>no</td>\n",
       "    </tr>\n",
       "    <tr>\n",
       "      <th>6</th>\n",
       "      <td>overcast</td>\n",
       "      <td>cool</td>\n",
       "      <td>normal</td>\n",
       "      <td>True</td>\n",
       "      <td>yes</td>\n",
       "    </tr>\n",
       "    <tr>\n",
       "      <th>7</th>\n",
       "      <td>sunny</td>\n",
       "      <td>mild</td>\n",
       "      <td>high</td>\n",
       "      <td>False</td>\n",
       "      <td>no</td>\n",
       "    </tr>\n",
       "    <tr>\n",
       "      <th>8</th>\n",
       "      <td>sunny</td>\n",
       "      <td>cool</td>\n",
       "      <td>normal</td>\n",
       "      <td>False</td>\n",
       "      <td>yes</td>\n",
       "    </tr>\n",
       "    <tr>\n",
       "      <th>9</th>\n",
       "      <td>rainy</td>\n",
       "      <td>mild</td>\n",
       "      <td>normal</td>\n",
       "      <td>False</td>\n",
       "      <td>yes</td>\n",
       "    </tr>\n",
       "    <tr>\n",
       "      <th>10</th>\n",
       "      <td>sunny</td>\n",
       "      <td>mild</td>\n",
       "      <td>normal</td>\n",
       "      <td>True</td>\n",
       "      <td>yes</td>\n",
       "    </tr>\n",
       "    <tr>\n",
       "      <th>11</th>\n",
       "      <td>overcast</td>\n",
       "      <td>mild</td>\n",
       "      <td>high</td>\n",
       "      <td>True</td>\n",
       "      <td>yes</td>\n",
       "    </tr>\n",
       "    <tr>\n",
       "      <th>12</th>\n",
       "      <td>overcast</td>\n",
       "      <td>hot</td>\n",
       "      <td>normal</td>\n",
       "      <td>False</td>\n",
       "      <td>yes</td>\n",
       "    </tr>\n",
       "    <tr>\n",
       "      <th>13</th>\n",
       "      <td>rainy</td>\n",
       "      <td>mild</td>\n",
       "      <td>high</td>\n",
       "      <td>True</td>\n",
       "      <td>no</td>\n",
       "    </tr>\n",
       "  </tbody>\n",
       "</table>\n",
       "</div>"
      ],
      "text/plain": [
       "     Outlook Temperature Humidity  Windy Play\n",
       "0      sunny         hot     high  False   no\n",
       "1      sunny         hot     high   True   no\n",
       "2   overcast         hot     high  False  yes\n",
       "3      rainy        mild     high  False  yes\n",
       "4      rainy        cool   normal  False  yes\n",
       "5      rainy        cool   normal   True   no\n",
       "6   overcast        cool   normal   True  yes\n",
       "7      sunny        mild     high  False   no\n",
       "8      sunny        cool   normal  False  yes\n",
       "9      rainy        mild   normal  False  yes\n",
       "10     sunny        mild   normal   True  yes\n",
       "11  overcast        mild     high   True  yes\n",
       "12  overcast         hot   normal  False  yes\n",
       "13     rainy        mild     high   True   no"
      ]
     },
     "execution_count": 20,
     "metadata": {},
     "output_type": "execute_result"
    }
   ],
   "source": [
    "df"
   ]
  },
  {
   "cell_type": "code",
   "execution_count": 22,
   "id": "774b411a-c684-432f-a1e8-63ad0f0d0156",
   "metadata": {},
   "outputs": [],
   "source": [
    "def divide_data(data, feature):\n",
    "    DATA = {}\n",
    "    feat_values = list(data[feature].value_counts().index)\n",
    "    occurence = list(data[feature].value_counts())\n",
    "\n",
    "    for val in feat_values :\n",
    "        DATA[val] = {'data' : pd.DataFrame([],columns = data.columns) , 'len' : 0 }\n",
    "    for ix in range(data.shape[0]):\n",
    "        val = data[feature].iloc[ix]\n",
    "        new_row = data.iloc[[ix]]\n",
    "        DATA[val]['data'] = pd.concat([DATA[val]['data'], new_row], ignore_index=True)\n",
    "        idx = feat_values.index(val)\n",
    "        DATA[val]['len'] = occurence[idx]\n",
    "\n",
    "    return DATA\n",
    "        \n",
    "\n",
    "        "
   ]
  },
  {
   "cell_type": "code",
   "execution_count": 34,
   "id": "213b776b-0a52-426b-85a9-e8b5499150cd",
   "metadata": {},
   "outputs": [
    {
     "data": {
      "text/plain": [
       "['sunny', 'rainy', 'overcast']"
      ]
     },
     "execution_count": 34,
     "metadata": {},
     "output_type": "execute_result"
    }
   ],
   "source": [
    "list(df['Outlook'].value_counts().index)\n",
    "#to convert into list write list"
   ]
  },
  {
   "cell_type": "code",
   "execution_count": 36,
   "id": "e070c7b1-b985-4d1a-8c4b-c07c5764b698",
   "metadata": {},
   "outputs": [
    {
     "data": {
      "text/plain": [
       "[5, 5, 4]"
      ]
     },
     "execution_count": 36,
     "metadata": {},
     "output_type": "execute_result"
    }
   ],
   "source": [
    "list(df['Outlook'].value_counts()) "
   ]
  },
  {
   "cell_type": "code",
   "execution_count": 32,
   "id": "3d0d09d2-991e-4213-a996-3ba4571a56c4",
   "metadata": {},
   "outputs": [
    {
     "data": {
      "text/plain": [
       "{'sunny': {'data':   Outlook Temperature Humidity  Windy Play\n",
       "  0   sunny         hot     high  False   no\n",
       "  1   sunny         hot     high   True   no\n",
       "  2   sunny        mild     high  False   no\n",
       "  3   sunny        cool   normal  False  yes\n",
       "  4   sunny        mild   normal   True  yes,\n",
       "  'len': 5},\n",
       " 'rainy': {'data':   Outlook Temperature Humidity  Windy Play\n",
       "  0   rainy        mild     high  False  yes\n",
       "  1   rainy        cool   normal  False  yes\n",
       "  2   rainy        cool   normal   True   no\n",
       "  3   rainy        mild   normal  False  yes\n",
       "  4   rainy        mild     high   True   no,\n",
       "  'len': 5},\n",
       " 'overcast': {'data':     Outlook Temperature Humidity  Windy Play\n",
       "  0  overcast         hot     high  False  yes\n",
       "  1  overcast        cool   normal   True  yes\n",
       "  2  overcast        mild     high   True  yes\n",
       "  3  overcast         hot   normal  False  yes,\n",
       "  'len': 4}}"
      ]
     },
     "execution_count": 32,
     "metadata": {},
     "output_type": "execute_result"
    }
   ],
   "source": [
    "divide_data(df,'Outlook')"
   ]
  },
  {
   "cell_type": "code",
   "execution_count": 38,
   "id": "a5dd3ba0-d710-4543-9f8f-dd0a4363b736",
   "metadata": {},
   "outputs": [],
   "source": [
    "def information_gain(data,feature):\n",
    "    examples = data.shape[0]\n",
    "    DATA = divide_data(data,feature)\n",
    "    keys = DATA.keys()\n",
    "\n",
    "    ent_of_children = 0.0\n",
    "\n",
    "    for key in keys :\n",
    "        ent_of_children += ((DATA[key]['len'])/examples) * entropy(DATA[key]['data']['Play'])\n",
    "    info_gain = entropy(data['Play']) - ent_of_children\n",
    "    return info_gain"
   ]
  },
  {
   "cell_type": "code",
   "execution_count": 40,
   "id": "61fe3a73-ce23-4b7d-afbd-337c6b743e7c",
   "metadata": {},
   "outputs": [
    {
     "data": {
      "text/plain": [
       "0.24674981977443933"
      ]
     },
     "execution_count": 40,
     "metadata": {},
     "output_type": "execute_result"
    }
   ],
   "source": [
    "information_gain(df,'Outlook')"
   ]
  },
  {
   "cell_type": "code",
   "execution_count": 42,
   "id": "093dfa8e-b568-43c7-880e-f150f42f524e",
   "metadata": {},
   "outputs": [
    {
     "data": {
      "text/plain": [
       "0.04812703040826949"
      ]
     },
     "execution_count": 42,
     "metadata": {},
     "output_type": "execute_result"
    }
   ],
   "source": [
    "information_gain(df,'Windy')"
   ]
  },
  {
   "cell_type": "markdown",
   "id": "692a8f7f-8d5d-438c-a4a7-54313b91042e",
   "metadata": {},
   "source": [
    "## CODE : BUILDINNG A DECISION TREE"
   ]
  },
  {
   "cell_type": "code",
   "execution_count": 110,
   "id": "7c249dcd-1e23-4093-a6fb-b5541accce2b",
   "metadata": {},
   "outputs": [],
   "source": [
    "class DecisionTree :\n",
    "    def __init__(self,depth = 0 , max_depth = 5):\n",
    "        #creating a Node,...there can be many children  \n",
    "        self.children = {}\n",
    "        self.key = None # feature key , value at that node\n",
    "        self.max_depth = max_depth\n",
    "        self.depth = depth\n",
    "        self.target = None # predict at any node\n",
    "\n",
    "    def train(self,data) : # here data is df\n",
    "        features = list(data.columns[:-1])\n",
    "        info_gain = []\n",
    "        root_feat = 0\n",
    "        for f in features:\n",
    "            i_gain = information_gain(data,f)\n",
    "            info_gain.append(i_gain)\n",
    "        \n",
    "        self.key = features[np.argmax(info_gain)] # the best feature , the root node\n",
    "        \n",
    "        #splitting the data\n",
    "        DATA = divide_data(data,self.key)\n",
    "        \n",
    "        # Giving a target label to the node\n",
    "        labels = list(data['Play'].value_counts().index)\n",
    "        freq = list(data['Play'].value_counts().values)\n",
    "\n",
    "        self.target = labels[np.argmax(freq)] #target label to each node\n",
    "        \n",
    "        #### STOPPING CODITIONS --- BASE CASES\n",
    "        have_data = 0\n",
    "        keys = DATA.keys()\n",
    "        for key in keys:\n",
    "            if DATA[key]['len'] > 0:  # \n",
    "                have_data +=1\n",
    "        # 1.(If it is pure node) ,data belongs to only one class,no other classes\n",
    "        if have_data <2 :\n",
    "            return \n",
    "        # 2. Early stopy if we have (Reached max_depth)\n",
    "        if self.depth >= self.max_depth :\n",
    "            return\n",
    "\n",
    "        print(\"\\t\"*self.depth + \"Making tree with -\",self.key)\n",
    "        # Recursievely train the child node\n",
    "        for key in keys :\n",
    "            new_data = DATA[key]['data']\n",
    "            self.children[key] = DecisionTree(depth = self.depth +1)\n",
    "            self.children[key].train(new_data) #recursion\n",
    "        return\n",
    "    def predict(self,test):\n",
    "        if self.children=={}:\n",
    "            return self.target\n",
    "        return self.children[test[self.key][0]].predict(test)\n",
    "        \n",
    "            \n",
    "        \n",
    "        "
   ]
  },
  {
   "cell_type": "code",
   "execution_count": 112,
   "id": "a561fdef-4480-467e-a069-6b9bcae86467",
   "metadata": {},
   "outputs": [
    {
     "data": {
      "text/plain": [
       "['Outlook', 'Temperature', 'Humidity', 'Windy']"
      ]
     },
     "execution_count": 112,
     "metadata": {},
     "output_type": "execute_result"
    }
   ],
   "source": [
    "list(df.columns[:-1])"
   ]
  },
  {
   "cell_type": "code",
   "execution_count": 114,
   "id": "5a2fc80b-2630-4514-91a5-e73628ea57db",
   "metadata": {},
   "outputs": [
    {
     "data": {
      "text/plain": [
       "['yes', 'no']"
      ]
     },
     "execution_count": 114,
     "metadata": {},
     "output_type": "execute_result"
    }
   ],
   "source": [
    "labels = list(df['Play'].value_counts().index)\n",
    "labels"
   ]
  },
  {
   "cell_type": "code",
   "execution_count": 116,
   "id": "e623a81a-a724-47bc-bb44-989db2970f8d",
   "metadata": {},
   "outputs": [
    {
     "data": {
      "text/plain": [
       "[9, 5]"
      ]
     },
     "execution_count": 116,
     "metadata": {},
     "output_type": "execute_result"
    }
   ],
   "source": [
    "freq = list(df['Play'].value_counts())\n",
    "freq"
   ]
  },
  {
   "cell_type": "markdown",
   "id": "e5415884-86d1-49f3-9e5b-09e7aefc64d8",
   "metadata": {},
   "source": [
    "## Explore the model"
   ]
  },
  {
   "cell_type": "code",
   "execution_count": 119,
   "id": "bc2e9ed4-996c-4a0e-ab81-54d4d47a897a",
   "metadata": {},
   "outputs": [],
   "source": [
    "model = DecisionTree()"
   ]
  },
  {
   "cell_type": "code",
   "execution_count": 121,
   "id": "59a0a27f-1579-488f-a5c1-e524f35178c4",
   "metadata": {},
   "outputs": [
    {
     "name": "stdout",
     "output_type": "stream",
     "text": [
      "Making tree with - Outlook\n",
      "\tMaking tree with - Humidity\n",
      "\tMaking tree with - Windy\n"
     ]
    }
   ],
   "source": [
    "model.train(df)"
   ]
  },
  {
   "cell_type": "code",
   "execution_count": 123,
   "id": "a82d12a4-cc75-43b3-a96a-a11e4af1ca08",
   "metadata": {},
   "outputs": [
    {
     "data": {
      "text/plain": [
       "<__main__.DecisionTree at 0x28b4661bfb0>"
      ]
     },
     "execution_count": 123,
     "metadata": {},
     "output_type": "execute_result"
    }
   ],
   "source": [
    "model"
   ]
  },
  {
   "cell_type": "code",
   "execution_count": 125,
   "id": "77d85821-31d3-44f0-94f5-1130742103df",
   "metadata": {},
   "outputs": [
    {
     "data": {
      "text/plain": [
       "'yes'"
      ]
     },
     "execution_count": 125,
     "metadata": {},
     "output_type": "execute_result"
    }
   ],
   "source": [
    "model.target"
   ]
  },
  {
   "cell_type": "code",
   "execution_count": 127,
   "id": "44c04c55-390d-4ea2-9062-cf081dcce9f1",
   "metadata": {},
   "outputs": [
    {
     "data": {
      "text/plain": [
       "'Outlook'"
      ]
     },
     "execution_count": 127,
     "metadata": {},
     "output_type": "execute_result"
    }
   ],
   "source": [
    "model.key\n"
   ]
  },
  {
   "cell_type": "code",
   "execution_count": 129,
   "id": "5838ea47-dc71-4ac5-944e-2a1546bd2bea",
   "metadata": {},
   "outputs": [
    {
     "data": {
      "text/plain": [
       "{'sunny': <__main__.DecisionTree at 0x28b4b71f7d0>,\n",
       " 'rainy': <__main__.DecisionTree at 0x28b4b7041d0>,\n",
       " 'overcast': <__main__.DecisionTree at 0x28b4b76d5b0>}"
      ]
     },
     "execution_count": 129,
     "metadata": {},
     "output_type": "execute_result"
    }
   ],
   "source": [
    "model.children"
   ]
  },
  {
   "cell_type": "code",
   "execution_count": 131,
   "id": "80c11135-e340-4f9c-a3c8-6884a85f23a4",
   "metadata": {},
   "outputs": [
    {
     "data": {
      "text/plain": [
       "'Humidity'"
      ]
     },
     "execution_count": 131,
     "metadata": {},
     "output_type": "execute_result"
    }
   ],
   "source": [
    "model.children['sunny'].key"
   ]
  },
  {
   "cell_type": "code",
   "execution_count": 133,
   "id": "9b2fcade-81e4-4a18-a835-8cc6e7dbff52",
   "metadata": {},
   "outputs": [
    {
     "data": {
      "text/plain": [
       "{'high': <__main__.DecisionTree at 0x28b4b76ec90>,\n",
       " 'normal': <__main__.DecisionTree at 0x28b4b76dd30>}"
      ]
     },
     "execution_count": 133,
     "metadata": {},
     "output_type": "execute_result"
    }
   ],
   "source": [
    "model.children['sunny'].children"
   ]
  },
  {
   "cell_type": "code",
   "execution_count": 135,
   "id": "e6e21c16-fcb4-4e65-9009-f479b4e5ec74",
   "metadata": {},
   "outputs": [],
   "source": [
    "x_test = pd.DataFrame([['overcast','hot','high',False]],columns= list(df.columns.values[:-1]))"
   ]
  },
  {
   "cell_type": "code",
   "execution_count": 137,
   "id": "1cfde5e0-872c-48df-9374-ad63b7c2f493",
   "metadata": {},
   "outputs": [
    {
     "data": {
      "text/html": [
       "<div>\n",
       "<style scoped>\n",
       "    .dataframe tbody tr th:only-of-type {\n",
       "        vertical-align: middle;\n",
       "    }\n",
       "\n",
       "    .dataframe tbody tr th {\n",
       "        vertical-align: top;\n",
       "    }\n",
       "\n",
       "    .dataframe thead th {\n",
       "        text-align: right;\n",
       "    }\n",
       "</style>\n",
       "<table border=\"1\" class=\"dataframe\">\n",
       "  <thead>\n",
       "    <tr style=\"text-align: right;\">\n",
       "      <th></th>\n",
       "      <th>Outlook</th>\n",
       "      <th>Temperature</th>\n",
       "      <th>Humidity</th>\n",
       "      <th>Windy</th>\n",
       "    </tr>\n",
       "  </thead>\n",
       "  <tbody>\n",
       "    <tr>\n",
       "      <th>0</th>\n",
       "      <td>overcast</td>\n",
       "      <td>hot</td>\n",
       "      <td>high</td>\n",
       "      <td>False</td>\n",
       "    </tr>\n",
       "  </tbody>\n",
       "</table>\n",
       "</div>"
      ],
      "text/plain": [
       "    Outlook Temperature Humidity  Windy\n",
       "0  overcast         hot     high  False"
      ]
     },
     "execution_count": 137,
     "metadata": {},
     "output_type": "execute_result"
    }
   ],
   "source": [
    "x_test"
   ]
  },
  {
   "cell_type": "code",
   "execution_count": 140,
   "id": "7d8477d8-47c4-4652-8e0a-70338560349a",
   "metadata": {},
   "outputs": [
    {
     "data": {
      "text/plain": [
       "'yes'"
      ]
     },
     "execution_count": 140,
     "metadata": {},
     "output_type": "execute_result"
    }
   ],
   "source": [
    "model.predict(x_test)"
   ]
  },
  {
   "cell_type": "code",
   "execution_count": null,
   "id": "e69ced60-1cfa-4686-801a-018999689b4d",
   "metadata": {},
   "outputs": [],
   "source": []
  }
 ],
 "metadata": {
  "kernelspec": {
   "display_name": "Python [conda env:base] *",
   "language": "python",
   "name": "conda-base-py"
  },
  "language_info": {
   "codemirror_mode": {
    "name": "ipython",
    "version": 3
   },
   "file_extension": ".py",
   "mimetype": "text/x-python",
   "name": "python",
   "nbconvert_exporter": "python",
   "pygments_lexer": "ipython3",
   "version": "3.12.7"
  }
 },
 "nbformat": 4,
 "nbformat_minor": 5
}
